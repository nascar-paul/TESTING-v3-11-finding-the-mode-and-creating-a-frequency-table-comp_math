{
 "cells": [
  {
   "cell_type": "code",
   "execution_count": 7,
   "metadata": {},
   "outputs": [],
   "source": [
    "import pandas as pd\n",
    "import numpy as np\n",
    "import matplotlib.pyplot as plt\n",
    "from typing import List, Union"
   ]
  },
  {
   "cell_type": "code",
   "execution_count": 8,
   "metadata": {},
   "outputs": [],
   "source": [
    "def generate_sample_donations(filename: str = 'donations.txt', num_entries: int = 50) -> None:\n",
    "    \"\"\"\n",
    "    Generate realistic donation data with controlled randomness\n",
    "    \n",
    "    Args:\n",
    "        filename (str): Output file for donation data\n",
    "        num_entries (int): Number of donation entries to generate\n",
    "    \"\"\"\n",
    "    # Set random seed for reproducibility\n",
    "    np.random.seed(42)\n",
    "    \n",
    "    # Generate donation amounts using normal distribution\n",
    "    # Mean: $250, Standard Deviation: $100\n",
    "    # Constrain values between $50 and $1000\n",
    "    donations = np.clip(\n",
    "        np.random.normal(250, 100, num_entries), \n",
    "        50, \n",
    "        1000\n",
    "    )\n",
    "    \n",
    "    # Round to nearest dollar\n",
    "    donations = np.round(donations, 2)\n",
    "    \n",
    "    # Write to file\n",
    "    try:\n",
    "        with open(filename, 'w') as f:\n",
    "            for donation in donations:\n",
    "                f.write(f\"{donation}\\n\")\n",
    "        print(f\"Generated {num_entries} donations in {filename}\")\n",
    "    except IOError as e:\n",
    "        print(f\"Error writing file: {e}\")"
   ]
  },
  {
   "cell_type": "code",
   "execution_count": 9,
   "metadata": {},
   "outputs": [],
   "source": [
    "def read_donations(filename: str) -> pd.Series:\n",
    "    \"\"\"\n",
    "    Read donations from a text file\n",
    "    \n",
    "    Parameters:\n",
    "    -----------\n",
    "    filename : str\n",
    "        Path to the donations file\n",
    "    \n",
    "    Returns:\n",
    "    --------\n",
    "    pd.Series\n",
    "        Validated donation amounts\n",
    "    \"\"\"\n",
    "    # TODO: Implement robust file reading\n",
    "    # Requirements:\n",
    "    # - Handle potential file reading errors\n",
    "    # - Convert to numeric, handling potential non-numeric entries\n",
    "    # - Remove or handle outliers\n",
    "    pass"
   ]
  },
  {
   "cell_type": "code",
   "execution_count": 10,
   "metadata": {},
   "outputs": [],
   "source": [
    "def calculate_statistics(donations: pd.Series) -> dict:\n",
    "    \"\"\"\n",
    "    Calculate comprehensive statistics\n",
    "    \n",
    "    Parameters:\n",
    "    -----------\n",
    "    donations : pd.Series\n",
    "        Donation amounts\n",
    "    \n",
    "    Returns:\n",
    "    --------\n",
    "    dict\n",
    "        Comprehensive statistical summary\n",
    "    \"\"\"\n",
    "    return {\n",
    "        'Mean': donations.mean(),\n",
    "        'Median': donations.median(),\n",
    "        'Mode': donations.mode().values[0],\n",
    "        'Standard Deviation': donations.std(),\n",
    "        'Minimum': donations.min(),\n",
    "        'Maximum': donations.max(),\n",
    "        'Total Donations': donations.sum()\n",
    "    }"
   ]
  },
  {
   "cell_type": "code",
   "execution_count": 11,
   "metadata": {},
   "outputs": [],
   "source": [
    "def create_donation_visualizations(donations: pd.Series) -> None:\n",
    "    \"\"\"\n",
    "    Create multiple visualizations of donation data\n",
    "    \n",
    "    Parameters:\n",
    "    -----------\n",
    "    donations : pd.Series\n",
    "        Donation amounts\n",
    "    \"\"\"\n",
    "    # Create a 2x2 subplot grid\n",
    "    fig, axes = plt.subplots(2, 2, figsize=(15, 12))\n",
    "    \n",
    "    # Histogram\n",
    "    donations.hist(ax=axes[0, 0], bins=20)\n",
    "    axes[0, 0].set_title('Donation Distribution')\n",
    "    axes[0, 0].set_xlabel('Donation Amount ($)')\n",
    "    axes[0, 0].set_ylabel('Frequency')\n",
    "    \n",
    "    # Box Plot\n",
    "    donations.plot.box(ax=axes[0, 1])\n",
    "    axes[0, 1].set_title('Donation Box Plot')\n",
    "    \n",
    "    # Violin Plot\n",
    "    donations.plot.violin(ax=axes[1, 0])\n",
    "    axes[1, 0].set_title('Donation Violin Plot')\n",
    "    \n",
    "    # Cumulative Distribution\n",
    "    donations.cumsum().plot(ax=axes[1, 1])\n",
    "    axes[1, 1].set_title('Cumulative Donation Amount')\n",
    "    axes[1, 1].set_xlabel('Number of Donations')\n",
    "    axes[1, 1].set_ylabel('Total Donation Amount ($)')\n",
    "    \n",
    "    plt.tight_layout()\n",
    "    plt.show()"
   ]
  },
  {
   "cell_type": "code",
   "execution_count": 12,
   "metadata": {},
   "outputs": [
    {
     "name": "stdout",
     "output_type": "stream",
     "text": [
      "Generated 50 donations in donations.txt\n"
     ]
    },
    {
     "ename": "AttributeError",
     "evalue": "'NoneType' object has no attribute 'mean'",
     "output_type": "error",
     "traceback": [
      "\u001b[0;31m---------------------------------------------------------------------------\u001b[0m",
      "\u001b[0;31mAttributeError\u001b[0m                            Traceback (most recent call last)",
      "Cell \u001b[0;32mIn[12], line 19\u001b[0m\n\u001b[1;32m     17\u001b[0m \u001b[38;5;66;03m# Run the analysis\u001b[39;00m\n\u001b[1;32m     18\u001b[0m \u001b[38;5;28;01mif\u001b[39;00m \u001b[38;5;18m__name__\u001b[39m \u001b[38;5;241m==\u001b[39m \u001b[38;5;124m'\u001b[39m\u001b[38;5;124m__main__\u001b[39m\u001b[38;5;124m'\u001b[39m:\n\u001b[0;32m---> 19\u001b[0m     \u001b[43mmain\u001b[49m\u001b[43m(\u001b[49m\u001b[43m)\u001b[49m\n",
      "Cell \u001b[0;32mIn[12], line 9\u001b[0m, in \u001b[0;36mmain\u001b[0;34m()\u001b[0m\n\u001b[1;32m      6\u001b[0m donations \u001b[38;5;241m=\u001b[39m read_donations(\u001b[38;5;124m'\u001b[39m\u001b[38;5;124mdonations.txt\u001b[39m\u001b[38;5;124m'\u001b[39m)\n\u001b[1;32m      8\u001b[0m \u001b[38;5;66;03m# Calculate statistics\u001b[39;00m\n\u001b[0;32m----> 9\u001b[0m stats \u001b[38;5;241m=\u001b[39m \u001b[43mcalculate_statistics\u001b[49m\u001b[43m(\u001b[49m\u001b[43mdonations\u001b[49m\u001b[43m)\u001b[49m\n\u001b[1;32m     10\u001b[0m \u001b[38;5;28mprint\u001b[39m(\u001b[38;5;124m\"\u001b[39m\u001b[38;5;124mDonation Statistics:\u001b[39m\u001b[38;5;124m\"\u001b[39m)\n\u001b[1;32m     11\u001b[0m \u001b[38;5;28;01mfor\u001b[39;00m stat, value \u001b[38;5;129;01min\u001b[39;00m stats\u001b[38;5;241m.\u001b[39mitems():\n",
      "Cell \u001b[0;32mIn[10], line 16\u001b[0m, in \u001b[0;36mcalculate_statistics\u001b[0;34m(donations)\u001b[0m\n\u001b[1;32m      1\u001b[0m \u001b[38;5;28;01mdef\u001b[39;00m \u001b[38;5;21mcalculate_statistics\u001b[39m(donations: pd\u001b[38;5;241m.\u001b[39mSeries) \u001b[38;5;241m-\u001b[39m\u001b[38;5;241m>\u001b[39m \u001b[38;5;28mdict\u001b[39m:\n\u001b[1;32m      2\u001b[0m \u001b[38;5;250m    \u001b[39m\u001b[38;5;124;03m\"\"\"\u001b[39;00m\n\u001b[1;32m      3\u001b[0m \u001b[38;5;124;03m    Calculate comprehensive statistics\u001b[39;00m\n\u001b[1;32m      4\u001b[0m \u001b[38;5;124;03m    \u001b[39;00m\n\u001b[0;32m   (...)\u001b[0m\n\u001b[1;32m     13\u001b[0m \u001b[38;5;124;03m        Comprehensive statistical summary\u001b[39;00m\n\u001b[1;32m     14\u001b[0m \u001b[38;5;124;03m    \"\"\"\u001b[39;00m\n\u001b[1;32m     15\u001b[0m     \u001b[38;5;28;01mreturn\u001b[39;00m {\n\u001b[0;32m---> 16\u001b[0m         \u001b[38;5;124m'\u001b[39m\u001b[38;5;124mMean\u001b[39m\u001b[38;5;124m'\u001b[39m: \u001b[43mdonations\u001b[49m\u001b[38;5;241;43m.\u001b[39;49m\u001b[43mmean\u001b[49m(),\n\u001b[1;32m     17\u001b[0m         \u001b[38;5;124m'\u001b[39m\u001b[38;5;124mMedian\u001b[39m\u001b[38;5;124m'\u001b[39m: donations\u001b[38;5;241m.\u001b[39mmedian(),\n\u001b[1;32m     18\u001b[0m         \u001b[38;5;124m'\u001b[39m\u001b[38;5;124mMode\u001b[39m\u001b[38;5;124m'\u001b[39m: donations\u001b[38;5;241m.\u001b[39mmode()\u001b[38;5;241m.\u001b[39mvalues[\u001b[38;5;241m0\u001b[39m],\n\u001b[1;32m     19\u001b[0m         \u001b[38;5;124m'\u001b[39m\u001b[38;5;124mStandard Deviation\u001b[39m\u001b[38;5;124m'\u001b[39m: donations\u001b[38;5;241m.\u001b[39mstd(),\n\u001b[1;32m     20\u001b[0m         \u001b[38;5;124m'\u001b[39m\u001b[38;5;124mMinimum\u001b[39m\u001b[38;5;124m'\u001b[39m: donations\u001b[38;5;241m.\u001b[39mmin(),\n\u001b[1;32m     21\u001b[0m         \u001b[38;5;124m'\u001b[39m\u001b[38;5;124mMaximum\u001b[39m\u001b[38;5;124m'\u001b[39m: donations\u001b[38;5;241m.\u001b[39mmax(),\n\u001b[1;32m     22\u001b[0m         \u001b[38;5;124m'\u001b[39m\u001b[38;5;124mTotal Donations\u001b[39m\u001b[38;5;124m'\u001b[39m: donations\u001b[38;5;241m.\u001b[39msum()\n\u001b[1;32m     23\u001b[0m     }\n",
      "\u001b[0;31mAttributeError\u001b[0m: 'NoneType' object has no attribute 'mean'"
     ]
    }
   ],
   "source": [
    "def main():\n",
    "    # Generate sample data\n",
    "    generate_sample_donations()\n",
    "    \n",
    "    # Read donations\n",
    "    donations = read_donations('donations.txt')\n",
    "    \n",
    "    # Calculate statistics\n",
    "    stats = calculate_statistics(donations)\n",
    "    print(\"Donation Statistics:\")\n",
    "    for stat, value in stats.items():\n",
    "        print(f\"{stat}: ${value:,.2f}\")\n",
    "    \n",
    "    # Create visualizations\n",
    "    create_donation_visualizations(donations)\n",
    "\n",
    "# Run the analysis\n",
    "if __name__ == '__main__':\n",
    "    main()"
   ]
  }
 ],
 "metadata": {
  "kernelspec": {
   "display_name": "Python 3",
   "language": "python",
   "name": "python3"
  },
  "language_info": {
   "codemirror_mode": {
    "name": "ipython",
    "version": 3
   },
   "file_extension": ".py",
   "mimetype": "text/x-python",
   "name": "python",
   "nbconvert_exporter": "python",
   "pygments_lexer": "ipython3",
   "version": "3.12.1"
  }
 },
 "nbformat": 4,
 "nbformat_minor": 2
}
